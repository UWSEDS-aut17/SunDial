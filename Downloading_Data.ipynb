{
 "cells": [
  {
   "cell_type": "markdown",
   "metadata": {},
   "source": [
    "# Downloading Data from Original Sources\n",
    "\n",
    "## Go to Loading_Data_and_Defining_subtasks first!\n",
    "\n",
    "This notebook shows where the original data was downloaded from (if need to download more, etc.)"
   ]
  },
  {
   "cell_type": "markdown",
   "metadata": {},
   "source": [
    "## Weather Observation data\n",
    "\n",
    "Obtained from NOAA site, have to fill out request form and search\n",
    "\n",
    "Start here: https://www.ncdc.noaa.gov/cdo-web/datasets\n",
    "\n",
    "The data I used is Local Climitological Data and Hourly Normals"
   ]
  },
  {
   "cell_type": "markdown",
   "metadata": {},
   "source": [
    "## Weather Forecast data\n",
    "\n",
    "Downloaded from DarkSky API : https://darksky.net/dev"
   ]
  },
  {
   "cell_type": "code",
   "execution_count": null,
   "metadata": {
    "collapsed": true
   },
   "outputs": [],
   "source": [
    "#Weather Forecast data\n",
    "\n",
    "#Lets look at the forecast every day at noon to decide what to do the next day (starting at midnight)\n",
    "\n",
    "DarkSky_key = '[key]' #Use your own key (register at https://darksky.net/dev), get 1000 calls/day\n",
    "#Santa Maria, CA\n",
    "time_forecast = 1477915200 #UNIX epoch time\n",
    "d = []\n",
    "for ii in range(365):\n",
    "      \n",
    "    URL_json = 'https://api.darksky.net/forecast/' + DarkSky_key + '/34.9530,-120.4357,' + str(time_forecast) + '?exclude=currently,minutely,daily,alerts,flags'\n",
    "    forecast_filename = utils.get_data(URL_json,'json')\n",
    "    d.append({'time': time_forecast, 'Name': forecast_filename})\n",
    "    time_forecast = time_forecast + 3600*24\n",
    "\n",
    "df_SMforecast_filenames = pd.DataFrame(d)\n",
    "\n",
    "df_SMforecast_filenames.to_csv('SM_forecast_filenames.csv')\n",
    "\n",
    "#Salem, OR\n",
    "time_forecast = 1477915200 #UNIX epoch time\n",
    "d = []\n",
    "for ii in range(365):\n",
    "      \n",
    "    URL_json = 'https://api.darksky.net/forecast/' + DarkSky_key + '/44.9429,-123.0351,' + str(time_forecast) + '?exclude=currently,minutely,daily,alerts,flags'\n",
    "    forecast_filename = utils.get_data(URL_json,'json')\n",
    "    d.append({'time': time_forecast, 'Name': forecast_filename})\n",
    "    time_forecast = time_forecast + 3600*24\n",
    "\n",
    "df_Salemforecast_filenames = pd.DataFrame(d)\n",
    "\n",
    "df_Salemforecast_filenames.to_csv('Salem_forecast_filenames.csv')"
   ]
  },
  {
   "cell_type": "markdown",
   "metadata": {},
   "source": [
    "## Energy Price Data\n",
    "\n",
    "Downloaded from CA ISO page (server takes forever)\n",
    "\n",
    "Check out node map : http://www.caiso.com/pricemap/Pages/default.aspx"
   ]
  },
  {
   "cell_type": "code",
   "execution_count": null,
   "metadata": {
    "collapsed": true
   },
   "outputs": [],
   "source": [
    "#This section is for downloading Energy Price Data\n",
    "\n",
    "# FOOTHILL_1_N001 - corresponds to San Luis Ob \n",
    "#(Note that I tried multiple nodes in Santa Maria, and they each had 1 or 2 months\n",
    "#with bad data)\n",
    "start_times = ['20161101','20161201','20161231','20170130','20170227','20170326','20170425','20170524','20170623','20170722','20170821','20170920','20171019']\n",
    "end_times = ['20161201','20161231','20170130','20170227','20170326','20170425','20170524','20170623','20170722','20170821','20170920','20171019','20171101']\n",
    "\n",
    "#Can only request data for 30 days at a time\n",
    "xml_fns = []\n",
    "for j in range(2,13):\n",
    "    URL = 'http://oasis.caiso.com/oasisapi/SingleZip?queryname=PRC_LMP&startdatetime=' + start_times[j] + 'T07:00-0000&enddatetime=' + end_times[j] + 'T07:00-0000&version=1&market_run_id=DAM&node=FOOTHILL_1_N001'\n",
    "    fn = utils.get_data(URL,'zip')\n",
    "    xml_fns.append(fn)\n"
   ]
  },
  {
   "cell_type": "code",
   "execution_count": null,
   "metadata": {
    "collapsed": true
   },
   "outputs": [],
   "source": [
    "\n",
    "Node_location = 'HLCR_LNODEWR1' #Salem, OR\n",
    "start_times = ['20161101','20161201','20161231','20170130','20170227','20170326','20170425','20170524','20170623','20170722','20170821','20170920','20171019']\n",
    "end_times = ['20161201','20161231','20170130','20170227','20170326','20170425','20170524','20170623','20170722','20170821','20170920','20171019','20171101']\n",
    "\n",
    "#Can only request data for 30 days at a time\n",
    "xml_fns2 = []\n",
    "for j in range(13):\n",
    "    URL = 'http://oasis.caiso.com/oasisapi/SingleZip?queryname=PRC_LMP&startdatetime=' + start_times[j] + 'T07:00-0000&enddatetime=' + end_times[j] + 'T07:00-0000&version=1&market_run_id=DAM&node=' + Node_location\n",
    "    fn = utils.get_data(URL,'zip')\n",
    "    xml_fns2.append(fn)\n",
    "\n"
   ]
  },
  {
   "cell_type": "markdown",
   "metadata": {},
   "source": [
    "## Energy Demand Data\n",
    "\n",
    "Downloaded from CA ISO page "
   ]
  },
  {
   "cell_type": "code",
   "execution_count": null,
   "metadata": {
    "collapsed": true
   },
   "outputs": [],
   "source": [
    "#Download Energy Demand data\n",
    "start_times = ['20161101','20161201','20161231','20170130','20170227','20170326','20170425','20170524','20170623','20170722','20170821','20170920','20171019']\n",
    "end_times = ['20161201','20161231','20170130','20170227','20170326','20170425','20170524','20170623','20170722','20170821','20170920','20171019','20171101']\n",
    "\n",
    "#Can only request data for 30 days at a time\n",
    "xml_fn_demand = []\n",
    "for j in range(13):\n",
    "    URL = 'http://oasis.caiso.com/oasisapi/SingleZip?queryname=SLD_FCST&startdatetime=' + start_times[j] + 'T07:00-0000&enddatetime=' + end_times[j] + 'T07:00-0000&version=1&market_run_id=ACTUAL'\n",
    "    fn = utils.get_data(URL,'zip')\n",
    "    xml_fn_demand.append(fn)\n",
    "    timefn.sleep(5) #so you don't get denied access"
   ]
  }
 ],
 "metadata": {
  "kernelspec": {
   "display_name": "Python 3",
   "language": "python",
   "name": "python3"
  },
  "language_info": {
   "codemirror_mode": {
    "name": "ipython",
    "version": 3
   },
   "file_extension": ".py",
   "mimetype": "text/x-python",
   "name": "python",
   "nbconvert_exporter": "python",
   "pygments_lexer": "ipython3",
   "version": "3.6.1"
  }
 },
 "nbformat": 4,
 "nbformat_minor": 2
}
