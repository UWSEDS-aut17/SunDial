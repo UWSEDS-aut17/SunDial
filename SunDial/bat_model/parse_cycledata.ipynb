{
 "cells": [
  {
   "cell_type": "code",
   "execution_count": 1,
   "metadata": {
    "collapsed": true
   },
   "outputs": [],
   "source": [
    "import pandas as pd\n",
    "import numpy as np\n",
    "import matplotlib as plt"
   ]
  },
  {
   "cell_type": "code",
   "execution_count": 44,
   "metadata": {},
   "outputs": [],
   "source": [
    "df = pd.read_csv('data/Webplot/Capfade_0SOC-60SOC-p5C.csv',header=None)\n",
    "df['SOC-low'] = 20\n",
    "df['SOC-high'] = 60\n",
    "df['DisRate'] = 0.5\n",
    "\n",
    "df1 = pd.read_csv('data/Webplot/Capfade_0SOC-100SOC-2C.csv',header=None)\n",
    "df1['SOC-low'] = 0\n",
    "df1['SOC-high'] = 100\n",
    "df1['DisRate'] = 2\n",
    "df = df.append(df1)\n",
    "\n",
    "df1 = pd.read_csv('data/Webplot/CapFade_0SOC-100SOC-p5C.csv',header=None)\n",
    "df1['SOC-low'] = 0\n",
    "df1['SOC-high'] = 100\n",
    "df1['DisRate'] = 0.5\n",
    "df = df.append(df1)\n",
    "\n",
    "df1 = pd.read_csv('data/Webplot/Capfade_20SOC-80SOC-2C.csv',header=None)\n",
    "df1['SOC-low'] = 20\n",
    "df1['SOC-high'] = 80\n",
    "df1['DisRate'] = 2\n",
    "df = df.append(df1)\n",
    "\n",
    "df1 = pd.read_csv('data/Webplot/Capfade_20SOC-80SOC-p5C_2.csv',header=None)\n",
    "df1['SOC-low'] = 20\n",
    "df1['SOC-high'] = 80\n",
    "df1['DisRate'] = .5\n",
    "df = df.append(df1)\n",
    "\n",
    "df1 = pd.read_csv('data/Webplot/CapFade_40SOC-60SOC-p5C.csv',header=None)\n",
    "df1['SOC-low'] = 40\n",
    "df1['SOC-high'] = 60\n",
    "df1['DisRate'] = .5\n",
    "df = df.append(df1)\n",
    "\n",
    "df1 = pd.read_csv('data/Webplot/Capfade_40SOC-60SOC-2C.csv',header=None)\n",
    "df1['SOC-low'] = 40\n",
    "df1['SOC-high'] = 60\n",
    "df1['DisRate'] = 2\n",
    "df = df.append(df1)\n",
    "\n",
    "df1 = pd.read_csv('data/Webplot/CapFade_20SOC-80SOC-p5C.csv',header=None)\n",
    "df1['SOC-low'] = 20\n",
    "df1['SOC-high'] = 80\n",
    "df1['DisRate'] = .5\n",
    "df = df.append(df1)\n",
    "\n",
    "df1 = pd.read_csv('data/Webplot/Capfade_40SOC-100SOC-p5C.csv',header=None)\n",
    "df1['SOC-low'] = 40\n",
    "df1['SOC-high'] = 100\n",
    "df1['DisRate'] = .5\n",
    "df = df.append(df1)"
   ]
  },
  {
   "cell_type": "code",
   "execution_count": 45,
   "metadata": {},
   "outputs": [],
   "source": [
    "df = df.rename(columns={0 : 'Cycles', 1 : 'Cap'})\n",
    "df['Cap'] = df['Cap']/100"
   ]
  },
  {
   "cell_type": "code",
   "execution_count": 46,
   "metadata": {},
   "outputs": [
    {
     "data": {
      "text/plain": [
       "0     1.000081\n",
       "1     1.008246\n",
       "2     1.008664\n",
       "3     1.009083\n",
       "4     1.012195\n",
       "5     1.009666\n",
       "6     1.005690\n",
       "7     1.001063\n",
       "8     1.002357\n",
       "9     1.004550\n",
       "10    1.002411\n",
       "11    1.001399\n",
       "12    1.000563\n",
       "13    0.996244\n",
       "14    0.993085\n",
       "15    0.997587\n",
       "16    0.997791\n",
       "17    0.997464\n",
       "18    0.996641\n",
       "19    0.996128\n",
       "20    0.995282\n",
       "21    0.989918\n",
       "22    0.986207\n",
       "23    0.981830\n",
       "24    0.976759\n",
       "25    0.979642\n",
       "26    0.983740\n",
       "27    0.983756\n",
       "28    0.982946\n",
       "29    0.981633\n",
       "        ...   \n",
       "12    0.942926\n",
       "13    0.938015\n",
       "14    0.935587\n",
       "15    0.933141\n",
       "16    0.930407\n",
       "17    0.928740\n",
       "18    0.925655\n",
       "19    0.924670\n",
       "20    0.923707\n",
       "21    0.921548\n",
       "22    0.919505\n",
       "23    0.917830\n",
       "24    0.915829\n",
       "25    0.913728\n",
       "26    0.909585\n",
       "27    0.906650\n",
       "28    0.902714\n",
       "29    0.902073\n",
       "30    0.901385\n",
       "31    0.899460\n",
       "32    0.897166\n",
       "33    0.896096\n",
       "34    0.894840\n",
       "35    0.892608\n",
       "36    0.892044\n",
       "37    0.891319\n",
       "38    0.890881\n",
       "39    0.891080\n",
       "40    0.889078\n",
       "41    0.888255\n",
       "Name: Cap, Length: 307, dtype: float64"
      ]
     },
     "execution_count": 46,
     "metadata": {},
     "output_type": "execute_result"
    }
   ],
   "source": []
  },
  {
   "cell_type": "code",
   "execution_count": null,
   "metadata": {
    "collapsed": true
   },
   "outputs": [],
   "source": []
  }
 ],
 "metadata": {
  "kernelspec": {
   "display_name": "Python 3",
   "language": "python",
   "name": "python3"
  },
  "language_info": {
   "codemirror_mode": {
    "name": "ipython",
    "version": 3
   },
   "file_extension": ".py",
   "mimetype": "text/x-python",
   "name": "python",
   "nbconvert_exporter": "python",
   "pygments_lexer": "ipython3",
   "version": "3.6.1"
  }
 },
 "nbformat": 4,
 "nbformat_minor": 2
}
