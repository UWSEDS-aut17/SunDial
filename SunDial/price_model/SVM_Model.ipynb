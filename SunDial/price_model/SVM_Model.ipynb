{
 "cells": [
  {
   "cell_type": "code",
   "execution_count": 1,
   "metadata": {
    "collapsed": false,
    "deletable": true,
    "editable": true
   },
   "outputs": [
    {
     "name": "stderr",
     "output_type": "stream",
     "text": [
      "/usr/local/lib/python2.7/site-packages/sklearn/cross_validation.py:41: DeprecationWarning: This module was deprecated in version 0.18 in favor of the model_selection module into which all the refactored classes and functions are moved. Also note that the interface of the new CV iterators are different from that of this module. This module will be removed in 0.20.\n",
      "  \"This module will be removed in 0.20.\", DeprecationWarning)\n",
      "/usr/local/lib/python2.7/site-packages/sklearn/grid_search.py:42: DeprecationWarning: This module was deprecated in version 0.18 in favor of the model_selection module into which all the refactored classes and functions are moved. This module will be removed in 0.20.\n",
      "  DeprecationWarning)\n"
     ]
    }
   ],
   "source": [
    "%matplotlib inline \n",
    "import seaborn as sns\n",
    "import numpy as np\n",
    "import pandas as pd\n",
    "import matplotlib.pyplot as plt\n",
    "from sklearn.svm import SVR\n",
    "from sklearn.grid_search import GridSearchCV\n",
    "from sklearn import cross_validation\n",
    "from sklearn import grid_search\n",
    "from sklearn.model_selection import train_test_split"
   ]
  },
  {
   "cell_type": "code",
   "execution_count": 2,
   "metadata": {
    "collapsed": true,
    "deletable": true,
    "editable": true
   },
   "outputs": [],
   "source": [
    "from process_data import process_data\n",
    "from process_data import get_date_range"
   ]
  },
  {
   "cell_type": "code",
   "execution_count": 5,
   "metadata": {
    "collapsed": false,
    "deletable": true,
    "editable": true
   },
   "outputs": [
    {
     "data": {
      "text/html": [
       "<div>\n",
       "<table border=\"1\" class=\"dataframe\">\n",
       "  <thead>\n",
       "    <tr style=\"text-align: right;\">\n",
       "      <th></th>\n",
       "      <th>lmp_value</th>\n",
       "      <th>time</th>\n",
       "      <th>hour</th>\n",
       "      <th>day</th>\n",
       "      <th>month</th>\n",
       "      <th>summary</th>\n",
       "      <th>precipIntensity</th>\n",
       "      <th>precipProbability</th>\n",
       "      <th>temperature</th>\n",
       "      <th>apparentTemperature</th>\n",
       "      <th>dewPoint</th>\n",
       "      <th>humidity</th>\n",
       "      <th>pressure</th>\n",
       "      <th>windSpeed</th>\n",
       "      <th>windBearing</th>\n",
       "      <th>cloudCover</th>\n",
       "      <th>visibility</th>\n",
       "    </tr>\n",
       "  </thead>\n",
       "  <tbody>\n",
       "    <tr>\n",
       "      <th>0</th>\n",
       "      <td>30.56196</td>\n",
       "      <td>2016-01-01 07:00:00</td>\n",
       "      <td>7</td>\n",
       "      <td>4</td>\n",
       "      <td>1</td>\n",
       "      <td>5</td>\n",
       "      <td>0.0</td>\n",
       "      <td>0.0</td>\n",
       "      <td>36.78</td>\n",
       "      <td>33.10</td>\n",
       "      <td>32.47</td>\n",
       "      <td>0.84</td>\n",
       "      <td>1020.18</td>\n",
       "      <td>4.53</td>\n",
       "      <td>111.0</td>\n",
       "      <td>0.00</td>\n",
       "      <td>9.69</td>\n",
       "    </tr>\n",
       "    <tr>\n",
       "      <th>1</th>\n",
       "      <td>32.26382</td>\n",
       "      <td>2016-01-01 08:00:00</td>\n",
       "      <td>8</td>\n",
       "      <td>4</td>\n",
       "      <td>1</td>\n",
       "      <td>5</td>\n",
       "      <td>0.0</td>\n",
       "      <td>0.0</td>\n",
       "      <td>39.36</td>\n",
       "      <td>34.56</td>\n",
       "      <td>33.89</td>\n",
       "      <td>0.81</td>\n",
       "      <td>1020.67</td>\n",
       "      <td>6.69</td>\n",
       "      <td>112.0</td>\n",
       "      <td>0.00</td>\n",
       "      <td>9.59</td>\n",
       "    </tr>\n",
       "    <tr>\n",
       "      <th>2</th>\n",
       "      <td>30.84944</td>\n",
       "      <td>2016-01-01 09:00:00</td>\n",
       "      <td>9</td>\n",
       "      <td>4</td>\n",
       "      <td>1</td>\n",
       "      <td>5</td>\n",
       "      <td>0.0</td>\n",
       "      <td>0.0</td>\n",
       "      <td>46.70</td>\n",
       "      <td>43.65</td>\n",
       "      <td>35.51</td>\n",
       "      <td>0.65</td>\n",
       "      <td>1021.00</td>\n",
       "      <td>6.16</td>\n",
       "      <td>119.0</td>\n",
       "      <td>0.01</td>\n",
       "      <td>9.61</td>\n",
       "    </tr>\n",
       "    <tr>\n",
       "      <th>3</th>\n",
       "      <td>30.71027</td>\n",
       "      <td>2016-01-01 10:00:00</td>\n",
       "      <td>10</td>\n",
       "      <td>4</td>\n",
       "      <td>1</td>\n",
       "      <td>5</td>\n",
       "      <td>0.0</td>\n",
       "      <td>0.0</td>\n",
       "      <td>52.42</td>\n",
       "      <td>52.42</td>\n",
       "      <td>35.37</td>\n",
       "      <td>0.52</td>\n",
       "      <td>1021.58</td>\n",
       "      <td>3.27</td>\n",
       "      <td>105.0</td>\n",
       "      <td>0.00</td>\n",
       "      <td>9.80</td>\n",
       "    </tr>\n",
       "    <tr>\n",
       "      <th>4</th>\n",
       "      <td>28.87975</td>\n",
       "      <td>2016-01-01 11:00:00</td>\n",
       "      <td>11</td>\n",
       "      <td>4</td>\n",
       "      <td>1</td>\n",
       "      <td>5</td>\n",
       "      <td>0.0</td>\n",
       "      <td>0.0</td>\n",
       "      <td>55.66</td>\n",
       "      <td>55.66</td>\n",
       "      <td>37.79</td>\n",
       "      <td>0.51</td>\n",
       "      <td>1021.44</td>\n",
       "      <td>1.78</td>\n",
       "      <td>339.0</td>\n",
       "      <td>0.17</td>\n",
       "      <td>9.92</td>\n",
       "    </tr>\n",
       "  </tbody>\n",
       "</table>\n",
       "</div>"
      ],
      "text/plain": [
       "   lmp_value                time  hour  day  month  summary  precipIntensity  \\\n",
       "0   30.56196 2016-01-01 07:00:00     7    4      1        5              0.0   \n",
       "1   32.26382 2016-01-01 08:00:00     8    4      1        5              0.0   \n",
       "2   30.84944 2016-01-01 09:00:00     9    4      1        5              0.0   \n",
       "3   30.71027 2016-01-01 10:00:00    10    4      1        5              0.0   \n",
       "4   28.87975 2016-01-01 11:00:00    11    4      1        5              0.0   \n",
       "\n",
       "   precipProbability  temperature  apparentTemperature  dewPoint  humidity  \\\n",
       "0                0.0        36.78                33.10     32.47      0.84   \n",
       "1                0.0        39.36                34.56     33.89      0.81   \n",
       "2                0.0        46.70                43.65     35.51      0.65   \n",
       "3                0.0        52.42                52.42     35.37      0.52   \n",
       "4                0.0        55.66                55.66     37.79      0.51   \n",
       "\n",
       "   pressure  windSpeed  windBearing  cloudCover  visibility  \n",
       "0   1020.18       4.53        111.0        0.00        9.69  \n",
       "1   1020.67       6.69        112.0        0.00        9.59  \n",
       "2   1021.00       6.16        119.0        0.01        9.61  \n",
       "3   1021.58       3.27        105.0        0.00        9.80  \n",
       "4   1021.44       1.78        339.0        0.17        9.92  "
      ]
     },
     "execution_count": 5,
     "metadata": {},
     "output_type": "execute_result"
    }
   ],
   "source": [
    "price_frame = process_data()\n",
    "price_frame.head()"
   ]
  },
  {
   "cell_type": "code",
   "execution_count": 4,
   "metadata": {
    "collapsed": false,
    "deletable": true,
    "editable": true
   },
   "outputs": [
    {
     "data": {
      "text/html": [
       "<div>\n",
       "<table border=\"1\" class=\"dataframe\">\n",
       "  <thead>\n",
       "    <tr style=\"text-align: right;\">\n",
       "      <th></th>\n",
       "      <th>lmp_value</th>\n",
       "      <th>hour</th>\n",
       "      <th>day</th>\n",
       "      <th>month</th>\n",
       "      <th>summary</th>\n",
       "      <th>precipIntensity</th>\n",
       "      <th>precipProbability</th>\n",
       "      <th>temperature</th>\n",
       "      <th>apparentTemperature</th>\n",
       "      <th>dewPoint</th>\n",
       "      <th>humidity</th>\n",
       "      <th>pressure</th>\n",
       "      <th>windSpeed</th>\n",
       "      <th>windBearing</th>\n",
       "      <th>cloudCover</th>\n",
       "      <th>visibility</th>\n",
       "    </tr>\n",
       "    <tr>\n",
       "      <th>time</th>\n",
       "      <th></th>\n",
       "      <th></th>\n",
       "      <th></th>\n",
       "      <th></th>\n",
       "      <th></th>\n",
       "      <th></th>\n",
       "      <th></th>\n",
       "      <th></th>\n",
       "      <th></th>\n",
       "      <th></th>\n",
       "      <th></th>\n",
       "      <th></th>\n",
       "      <th></th>\n",
       "      <th></th>\n",
       "      <th></th>\n",
       "      <th></th>\n",
       "    </tr>\n",
       "  </thead>\n",
       "  <tbody>\n",
       "    <tr>\n",
       "      <th>2016-01-01 07:00:00</th>\n",
       "      <td>30.56196</td>\n",
       "      <td>7</td>\n",
       "      <td>4</td>\n",
       "      <td>1</td>\n",
       "      <td>5</td>\n",
       "      <td>0.0</td>\n",
       "      <td>0.0</td>\n",
       "      <td>36.78</td>\n",
       "      <td>33.10</td>\n",
       "      <td>32.47</td>\n",
       "      <td>0.84</td>\n",
       "      <td>1020.18</td>\n",
       "      <td>4.53</td>\n",
       "      <td>111.0</td>\n",
       "      <td>0.00</td>\n",
       "      <td>9.69</td>\n",
       "    </tr>\n",
       "    <tr>\n",
       "      <th>2016-01-01 08:00:00</th>\n",
       "      <td>32.26382</td>\n",
       "      <td>8</td>\n",
       "      <td>4</td>\n",
       "      <td>1</td>\n",
       "      <td>5</td>\n",
       "      <td>0.0</td>\n",
       "      <td>0.0</td>\n",
       "      <td>39.36</td>\n",
       "      <td>34.56</td>\n",
       "      <td>33.89</td>\n",
       "      <td>0.81</td>\n",
       "      <td>1020.67</td>\n",
       "      <td>6.69</td>\n",
       "      <td>112.0</td>\n",
       "      <td>0.00</td>\n",
       "      <td>9.59</td>\n",
       "    </tr>\n",
       "    <tr>\n",
       "      <th>2016-01-01 09:00:00</th>\n",
       "      <td>30.84944</td>\n",
       "      <td>9</td>\n",
       "      <td>4</td>\n",
       "      <td>1</td>\n",
       "      <td>5</td>\n",
       "      <td>0.0</td>\n",
       "      <td>0.0</td>\n",
       "      <td>46.70</td>\n",
       "      <td>43.65</td>\n",
       "      <td>35.51</td>\n",
       "      <td>0.65</td>\n",
       "      <td>1021.00</td>\n",
       "      <td>6.16</td>\n",
       "      <td>119.0</td>\n",
       "      <td>0.01</td>\n",
       "      <td>9.61</td>\n",
       "    </tr>\n",
       "    <tr>\n",
       "      <th>2016-01-01 10:00:00</th>\n",
       "      <td>30.71027</td>\n",
       "      <td>10</td>\n",
       "      <td>4</td>\n",
       "      <td>1</td>\n",
       "      <td>5</td>\n",
       "      <td>0.0</td>\n",
       "      <td>0.0</td>\n",
       "      <td>52.42</td>\n",
       "      <td>52.42</td>\n",
       "      <td>35.37</td>\n",
       "      <td>0.52</td>\n",
       "      <td>1021.58</td>\n",
       "      <td>3.27</td>\n",
       "      <td>105.0</td>\n",
       "      <td>0.00</td>\n",
       "      <td>9.80</td>\n",
       "    </tr>\n",
       "    <tr>\n",
       "      <th>2016-01-01 11:00:00</th>\n",
       "      <td>28.87975</td>\n",
       "      <td>11</td>\n",
       "      <td>4</td>\n",
       "      <td>1</td>\n",
       "      <td>5</td>\n",
       "      <td>0.0</td>\n",
       "      <td>0.0</td>\n",
       "      <td>55.66</td>\n",
       "      <td>55.66</td>\n",
       "      <td>37.79</td>\n",
       "      <td>0.51</td>\n",
       "      <td>1021.44</td>\n",
       "      <td>1.78</td>\n",
       "      <td>339.0</td>\n",
       "      <td>0.17</td>\n",
       "      <td>9.92</td>\n",
       "    </tr>\n",
       "  </tbody>\n",
       "</table>\n",
       "</div>"
      ],
      "text/plain": [
       "                     lmp_value  hour  day  month  summary  precipIntensity  \\\n",
       "time                                                                         \n",
       "2016-01-01 07:00:00   30.56196     7    4      1        5              0.0   \n",
       "2016-01-01 08:00:00   32.26382     8    4      1        5              0.0   \n",
       "2016-01-01 09:00:00   30.84944     9    4      1        5              0.0   \n",
       "2016-01-01 10:00:00   30.71027    10    4      1        5              0.0   \n",
       "2016-01-01 11:00:00   28.87975    11    4      1        5              0.0   \n",
       "\n",
       "                     precipProbability  temperature  apparentTemperature  \\\n",
       "time                                                                       \n",
       "2016-01-01 07:00:00                0.0        36.78                33.10   \n",
       "2016-01-01 08:00:00                0.0        39.36                34.56   \n",
       "2016-01-01 09:00:00                0.0        46.70                43.65   \n",
       "2016-01-01 10:00:00                0.0        52.42                52.42   \n",
       "2016-01-01 11:00:00                0.0        55.66                55.66   \n",
       "\n",
       "                     dewPoint  humidity  pressure  windSpeed  windBearing  \\\n",
       "time                                                                        \n",
       "2016-01-01 07:00:00     32.47      0.84   1020.18       4.53        111.0   \n",
       "2016-01-01 08:00:00     33.89      0.81   1020.67       6.69        112.0   \n",
       "2016-01-01 09:00:00     35.51      0.65   1021.00       6.16        119.0   \n",
       "2016-01-01 10:00:00     35.37      0.52   1021.58       3.27        105.0   \n",
       "2016-01-01 11:00:00     37.79      0.51   1021.44       1.78        339.0   \n",
       "\n",
       "                     cloudCover  visibility  \n",
       "time                                         \n",
       "2016-01-01 07:00:00        0.00        9.69  \n",
       "2016-01-01 08:00:00        0.00        9.59  \n",
       "2016-01-01 09:00:00        0.01        9.61  \n",
       "2016-01-01 10:00:00        0.00        9.80  \n",
       "2016-01-01 11:00:00        0.17        9.92  "
      ]
     },
     "execution_count": 4,
     "metadata": {},
     "output_type": "execute_result"
    }
   ],
   "source": [
    "df_price_frame = price_frame.set_index(\"time\")\n",
    "df_price_frame.head()"
   ]
  },
  {
   "cell_type": "code",
   "execution_count": 6,
   "metadata": {
    "collapsed": false,
    "deletable": true,
    "editable": true
   },
   "outputs": [
    {
     "name": "stdout",
     "output_type": "stream",
     "text": [
      "   hour  day  month  summary  precipIntensity  precipProbability  temperature  \\\n",
      "0     7    4      1        5              0.0                0.0        36.78   \n",
      "1     8    4      1        5              0.0                0.0        39.36   \n",
      "2     9    4      1        5              0.0                0.0        46.70   \n",
      "3    10    4      1        5              0.0                0.0        52.42   \n",
      "4    11    4      1        5              0.0                0.0        55.66   \n",
      "\n",
      "   apparentTemperature  dewPoint  humidity  pressure  windSpeed  windBearing  \\\n",
      "0                33.10     32.47      0.84   1020.18       4.53        111.0   \n",
      "1                34.56     33.89      0.81   1020.67       6.69        112.0   \n",
      "2                43.65     35.51      0.65   1021.00       6.16        119.0   \n",
      "3                52.42     35.37      0.52   1021.58       3.27        105.0   \n",
      "4                55.66     37.79      0.51   1021.44       1.78        339.0   \n",
      "\n",
      "   cloudCover  visibility  \n",
      "0        0.00        9.69  \n",
      "1        0.00        9.59  \n",
      "2        0.01        9.61  \n",
      "3        0.00        9.80  \n",
      "4        0.17        9.92  \n"
     ]
    }
   ],
   "source": [
    "x_train, y_train, x_test, y_test = get_date_range(df_price_frame, '2016-01-01', '2016-03-01', '2016-03-01', '2016-03-05')"
   ]
  },
  {
   "cell_type": "code",
   "execution_count": 15,
   "metadata": {
    "collapsed": false,
    "deletable": true,
    "editable": true
   },
   "outputs": [
    {
     "name": "stdout",
     "output_type": "stream",
     "text": [
      "Optimum parameters epsilon and kernel for SVR:  {'epsilon': 0.0, 'C': 401, 'gamma': 0.0001, 'kernel': 'rbf'}\n",
      "The test score R2 for SVR:  0.238428609372\n",
      "SVR mean squared error: 30.81\n"
     ]
    }
   ],
   "source": [
    "gamma_range = [0.01, 0.001, 0.0001, 0.00001]\n",
    "epsilon_range = [x * 0.1 for x in range(0, 1)]\n",
    "C_range = range(1, 500, 100)\n",
    "tuned_parameters = [{\n",
    "    'kernel': ['rbf'],\n",
    "    'C': C_range,\n",
    "    'gamma': gamma_range,\n",
    "    'epsilon': epsilon_range,\n",
    "    }]\n",
    "\n",
    "svr_price = GridSearchCV(SVR(), param_grid=tuned_parameters, verbose=0)\n",
    "y_pred = svr_price.fit(x_train, y_train).predict(x_test)\n",
    "\n",
    "print 'Optimum parameters epsilon and kernel for SVR: ', svr_price.best_params_\n",
    "\n",
    "print \"The test score R2 for SVR: \", svr_price.score(x_test, y_test)\n",
    "\n",
    "print(\"SVR mean squared error: %.2f\"\n",
    "      % np.mean((y_test - svr_price.predict(x_test)) ** 2))"
   ]
  },
  {
   "cell_type": "code",
   "execution_count": 12,
   "metadata": {
    "collapsed": false,
    "deletable": true,
    "editable": true
   },
   "outputs": [
    {
     "data": {
      "image/png": "[encoded data removed]",
      "text/plain": [
       "<matplotlib.figure.Figure at 0x1162b6350>"
      ]
     },
     "metadata": {},
     "output_type": "display_data"
    }
   ],
   "source": [
    "fig = plt.figure(figsize=(15,7))\n",
    "plt.scatter(x_test.index, y_test, c='k', label='Observed')\n",
    "plt.plot(x_test.index, y_pred, c='r', label='Predicted')\n",
    "plt.xlabel('data')\n",
    "plt.ylabel('lmp_value')\n",
    "plt.title('Support Vector Regression')\n",
    "plt.legend()\n",
    "plt.show()"
   ]
  },
  {
   "cell_type": "code",
   "execution_count": 13,
   "metadata": {
    "collapsed": false,
    "deletable": true,
    "editable": true
   },
   "outputs": [
    {
     "data": {
      "text/plain": [
       "<matplotlib.text.Text at 0x1166d2850>"
      ]
     },
     "execution_count": 13,
     "metadata": {},
     "output_type": "execute_result"
    },
    {
     "data": {
      "image/png": "[encoded data removed]",
      "text/plain": [
       "<matplotlib.figure.Figure at 0x11661bf90>"
      ]
     },
     "metadata": {},
     "output_type": "display_data"
    }
   ],
   "source": [
    "fig = plt.figure(figsize=(6,6))\n",
    "plt.scatter(y_test, y_test, c='k')\n",
    "plt.scatter(y_test, y_pred, c='r')\n",
    "plt.xlabel('Observed Elec. Usage (kWh)')\n",
    "plt.ylabel(\"Predicted Elec. Usage (kWh): $\\hat{Y}_i$\")\n",
    "plt.title(\"Energy vs Predicted Energy: $Y_i$ vs $\\hat{Y}_i$\")"
   ]
  },
  {
   "cell_type": "code",
   "execution_count": null,
   "metadata": {
    "collapsed": true,
    "deletable": true,
    "editable": true
   },
   "outputs": [],
   "source": []
  }
 ],
 "metadata": {
  "kernelspec": {
   "display_name": "Python 2",
   "language": "python",
   "name": "python2"
  },
  "language_info": {
   "codemirror_mode": {
    "name": "ipython",
    "version": 2
   },
   "file_extension": ".py",
   "mimetype": "text/x-python",
   "name": "python",
   "nbconvert_exporter": "python",
   "pygments_lexer": "ipython2",
   "version": "2.7.12"
  }
 },
 "nbformat": 4,
 "nbformat_minor": 2
}
