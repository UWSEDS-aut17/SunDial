{
 "cells": [
  {
   "cell_type": "code",
   "execution_count": 1,
   "metadata": {},
   "outputs": [],
   "source": [
    "import pandas as pd\n",
    "import numpy as np\n",
    "import matplotlib.pyplot as plt\n",
    "import bat_model\n",
    "%matplotlib inline"
   ]
  },
  {
   "cell_type": "code",
   "execution_count": null,
   "metadata": {
    "collapsed": true
   },
   "outputs": [],
   "source": [
    "df = pd.read_csv('../data/SM_forecast_2016.csv')\n",
    "df['temperature'] = (df['temperature'] - 32)*(5/9)\n",
    "DailyTemp = []\n",
    "for ii in range(365):\n",
    "    DailyTemp.append(df.loc[ii*24:ii*24+24,'temperature'].mean(axis=0))"
   ]
  },
  {
   "cell_type": "code",
   "execution_count": null,
   "metadata": {
    "collapsed": true
   },
   "outputs": [],
   "source": [
    "df = pd.read_csv('../data/Salem_forecast_2016.csv')\n",
    "df['temperature'] = (df['temperature'] - 32)*(5/9)\n",
    "DailyTemp2 = []\n",
    "for ii in range(365):\n",
    "    DailyTemp2.append(df.loc[ii*24:ii*24+24,'temperature'].mean(axis=0))"
   ]
  },
  {
   "cell_type": "code",
   "execution_count": 1,
   "metadata": {},
   "outputs": [
    {
     "ename": "NameError",
     "evalue": "name 'pd' is not defined",
     "output_type": "error",
     "traceback": [
      "\u001b[0;31m---------------------------------------------------------------------------\u001b[0m",
      "\u001b[0;31mNameError\u001b[0m                                 Traceback (most recent call last)",
      "\u001b[0;32m<ipython-input-1-7dc86b9a1117>\u001b[0m in \u001b[0;36m<module>\u001b[0;34m()\u001b[0m\n\u001b[0;32m----> 1\u001b[0;31m \u001b[0mdf\u001b[0m \u001b[0;34m=\u001b[0m \u001b[0mpd\u001b[0m\u001b[0;34m.\u001b[0m\u001b[0mread_csv\u001b[0m\u001b[0;34m(\u001b[0m\u001b[0;34m'../data/Salem_forecast_2016.csv'\u001b[0m\u001b[0;34m)\u001b[0m\u001b[0;34m\u001b[0m\u001b[0m\n\u001b[0m\u001b[1;32m      2\u001b[0m \u001b[0mdf\u001b[0m\u001b[0;34m[\u001b[0m\u001b[0;34m'temperature'\u001b[0m\u001b[0;34m]\u001b[0m \u001b[0;34m=\u001b[0m \u001b[0;34m(\u001b[0m\u001b[0mdf\u001b[0m\u001b[0;34m[\u001b[0m\u001b[0;34m'temperature'\u001b[0m\u001b[0;34m]\u001b[0m \u001b[0;34m-\u001b[0m \u001b[0;36m32\u001b[0m\u001b[0;34m)\u001b[0m\u001b[0;34m*\u001b[0m\u001b[0;34m(\u001b[0m\u001b[0;36m5\u001b[0m\u001b[0;34m/\u001b[0m\u001b[0;36m9\u001b[0m\u001b[0;34m)\u001b[0m\u001b[0;34m\u001b[0m\u001b[0m\n\u001b[1;32m      3\u001b[0m \u001b[0mDailyTemp3\u001b[0m \u001b[0;34m=\u001b[0m \u001b[0;34m[\u001b[0m\u001b[0;34m]\u001b[0m\u001b[0;34m\u001b[0m\u001b[0m\n\u001b[1;32m      4\u001b[0m \u001b[0;32mfor\u001b[0m \u001b[0mii\u001b[0m \u001b[0;32min\u001b[0m \u001b[0mrange\u001b[0m\u001b[0;34m(\u001b[0m\u001b[0;36m365\u001b[0m\u001b[0;34m)\u001b[0m\u001b[0;34m:\u001b[0m\u001b[0;34m\u001b[0m\u001b[0m\n\u001b[1;32m      5\u001b[0m     \u001b[0mDailyTemp3\u001b[0m\u001b[0;34m.\u001b[0m\u001b[0mappend\u001b[0m\u001b[0;34m(\u001b[0m\u001b[0mdf\u001b[0m\u001b[0;34m.\u001b[0m\u001b[0mloc\u001b[0m\u001b[0;34m[\u001b[0m\u001b[0mii\u001b[0m\u001b[0;34m*\u001b[0m\u001b[0;36m24\u001b[0m\u001b[0;34m:\u001b[0m\u001b[0mii\u001b[0m\u001b[0;34m*\u001b[0m\u001b[0;36m24\u001b[0m\u001b[0;34m+\u001b[0m\u001b[0;36m24\u001b[0m\u001b[0;34m,\u001b[0m\u001b[0;34m'temperature'\u001b[0m\u001b[0;34m]\u001b[0m\u001b[0;34m.\u001b[0m\u001b[0mmean\u001b[0m\u001b[0;34m(\u001b[0m\u001b[0maxis\u001b[0m\u001b[0;34m=\u001b[0m\u001b[0;36m0\u001b[0m\u001b[0;34m)\u001b[0m\u001b[0;34m)\u001b[0m\u001b[0;34m\u001b[0m\u001b[0m\n",
      "\u001b[0;31mNameError\u001b[0m: name 'pd' is not defined"
     ]
    }
   ],
   "source": [
    "df = pd.read_csv('../data/Salem_forecast_2016.csv')\n",
    "df['temperature'] = (df['temperature'] - 32)*(5/9)\n",
    "DailyTemp3 = []\n",
    "for ii in range(365):\n",
    "    DailyTemp3.append(df.loc[ii*24:ii*24+24,'temperature'].mean(axis=0))"
   ]
  },
  {
   "cell_type": "code",
   "execution_count": null,
   "metadata": {},
   "outputs": [],
   "source": [
    "Cap = []\n",
    "Cap.append(1)\n",
    "soc = 50\n",
    "cycles = 0\n",
    "soc_low = 0\n",
    "soc_high = 80\n",
    "rate = 1\n",
    "for ii in range(365):    \n",
    "    Cap.append(BatFNs.bat_day(soc,DailyTemp[ii],cycles,soc_low,soc_high,rate)*Cap[ii])\n",
    "    \n",
    "Cap2 = []\n",
    "Cap2.append(1)\n",
    "soc = 50\n",
    "cycles = 1\n",
    "soc_low = 0\n",
    "soc_high = 80\n",
    "rate = 1\n",
    "for ii in range(365):    \n",
    "    Cap2.append(BatFNs.bat_day(soc,DailyTemp[ii],cycles,soc_low,soc_high,rate)*Cap2[ii])\n",
    "    \n",
    "Cap3 = []\n",
    "Cap3.append(1)\n",
    "soc = 50\n",
    "cycles = 2\n",
    "soc_low = 0\n",
    "soc_high = 80\n",
    "rate = 1\n",
    "for ii in range(365):    \n",
    "    Cap3.append(BatFNs.bat_day(soc,DailyTemp[ii],cycles,soc_low,soc_high,rate)*Cap3[ii])\n",
    "    \n",
    "plt.style.use('seaborn')\n",
    "plt.plot(range(366),Cap,range(366),Cap2,range(366),Cap3)\n",
    "plt.xlabel('Day of Year', fontsize=18)\n",
    "plt.ylabel('Capacity Fade',fontsize=18)\n",
    "plt.title('Operating Battery Santa Maria 2016',fontsize=18)\n",
    "plt.legend(('0 cycle/day','1 cycle/day','2 cycle/day'),fontsize=14)"
   ]
  },
  {
   "cell_type": "code",
   "execution_count": null,
   "metadata": {},
   "outputs": [],
   "source": [
    "Cap = []\n",
    "Cap.append(1)\n",
    "soc = 40\n",
    "cycles = 1\n",
    "soc_low = 20\n",
    "soc_high = 60\n",
    "rate = 1\n",
    "for ii in range(365):    \n",
    "    Cap.append(BatFNs.bat_day(soc,DailyTemp[ii],cycles,soc_low,soc_high,rate)*Cap[ii])\n",
    "    \n",
    "Cap2 = []\n",
    "Cap2.append(1)\n",
    "soc = 60\n",
    "cycles = 1\n",
    "soc_low = 40\n",
    "soc_high = 80\n",
    "rate = 1\n",
    "for ii in range(365):    \n",
    "    Cap2.append(BatFNs.bat_day(soc,DailyTemp[ii],cycles,soc_low,soc_high,rate)*Cap2[ii])\n",
    "    \n",
    "Cap3 = []\n",
    "Cap3.append(1)\n",
    "soc = 80\n",
    "cycles = 1\n",
    "soc_low = 60\n",
    "soc_high = 100\n",
    "rate = 1\n",
    "for ii in range(365):    \n",
    "    Cap3.append(BatFNs.bat_day(soc,DailyTemp[ii],cycles,soc_low,soc_high,rate)*Cap3[ii])\n",
    "    \n",
    "plt.style.use('seaborn')\n",
    "plt.plot(range(366),Cap,range(366),Cap2,range(366),Cap3)\n",
    "plt.xlabel('Day of Year', fontsize=18)\n",
    "plt.ylabel('Capacity Fade',fontsize=18)\n",
    "plt.title('Operating Battery Santa Maria 2016',fontsize=18)\n",
    "plt.legend(('20% <-> 60%','40% <-> 80%','60% <-> 100%'),fontsize=14)"
   ]
  },
  {
   "cell_type": "code",
   "execution_count": null,
   "metadata": {},
   "outputs": [],
   "source": [
    "Cap = []\n",
    "Cap.append(1)\n",
    "soc = 100\n",
    "cycles = 0\n",
    "soc_low = 0\n",
    "soc_high = 100\n",
    "rate = 1\n",
    "for ii in range(365):    \n",
    "    Cap.append(BatFNs.bat_day(soc,DailyTemp[ii],cycles,soc_low,soc_high,rate)*Cap[ii])\n",
    "    \n",
    "Cap2 = []\n",
    "Cap2.append(1)\n",
    "soc = 100\n",
    "cycles = 0\n",
    "soc_low = 0\n",
    "soc_high = 100\n",
    "rate = 1\n",
    "for ii in range(365):    \n",
    "    Cap2.append(BatFNs.bat_day(soc,DailyTemp2[ii],cycles,soc_low,soc_high,rate)*Cap2[ii])\n",
    "    \n",
    "Cap3 = []\n",
    "Cap3.append(1)\n",
    "soc = 100\n",
    "cycles = 0\n",
    "soc_low = 0\n",
    "soc_high = 100\n",
    "rate = 1\n",
    "for ii in range(365):    \n",
    "    Cap3.append(BatFNs.bat_day(soc,DailyTemp3[ii],cycles,soc_low,soc_high,rate)*Cap3[ii])\n",
    "    \n",
    "plt.style.use('seaborn')\n",
    "plt.plot(range(366),Cap,range(366),Cap2,range(366),Cap3)\n",
    "plt.xlabel('Day of Year', fontsize=18)\n",
    "plt.ylabel('Capacity Fade',fontsize=18)\n",
    "plt.title('Battery Storage (no cycles)',fontsize=18)\n",
    "plt.legend(('Santa Maria, CA','Salem, OR','Fairbanks, AK'),fontsize=14)"
   ]
  },
  {
   "cell_type": "code",
   "execution_count": null,
   "metadata": {
    "collapsed": true
   },
   "outputs": [],
   "source": [
    "Cap = []\n",
    "Cap.append(1)\n",
    "Shelf = []\n",
    "Shelf.append(1)\n",
    "soc = 50\n",
    "cycle = 0\n",
    "cycles = 1\n",
    "soc_low = 0\n",
    "soc_high = 80\n",
    "rate = 1\n",
    "for ii in range(365):\n",
    "    cycle = cycle + cycles\n",
    "    (DegCycle, DegStore) = BatFNs.bat_day2(soc,DailyTemp[ii],cycle,soc_low,soc_high,rate)\n",
    "    Shelf.append(DegStore*Shelf[ii])\n",
    "    Cap.append(DegStore*Shelf[ii]*DegCycle)"
   ]
  },
  {
   "cell_type": "code",
   "execution_count": null,
   "metadata": {},
   "outputs": [],
   "source": [
    "DailyTemp[ii]"
   ]
  },
  {
   "cell_type": "code",
   "execution_count": null,
   "metadata": {},
   "outputs": [],
   "source": [
    "plt.style.use('seaborn')\n",
    "plt.plot(Cap)"
   ]
  },
  {
   "cell_type": "code",
   "execution_count": null,
   "metadata": {},
   "outputs": [],
   "source": [
    "df.loc[ii*24:ii*24+24,'temperature'].mean(axis=0)"
   ]
  },
  {
   "cell_type": "code",
   "execution_count": 2,
   "metadata": {},
   "outputs": [
    {
     "data": {
      "text/plain": [
       "array([[ 0.00130673],\n",
       "       [ 0.00130673],\n",
       "       [ 0.00130673],\n",
       "       [ 0.00130673],\n",
       "       [ 0.00130673],\n",
       "       [ 0.00130673],\n",
       "       [ 0.00130673],\n",
       "       [ 0.00130673],\n",
       "       [ 0.00130673],\n",
       "       [ 0.00130673],\n",
       "       [ 0.00130673],\n",
       "       [ 0.00130673],\n",
       "       [ 0.00130673],\n",
       "       [ 0.00130673],\n",
       "       [ 0.00130673],\n",
       "       [ 0.00130673],\n",
       "       [ 0.00130673],\n",
       "       [ 0.00130673],\n",
       "       [ 0.01435766],\n",
       "       [ 0.01435766],\n",
       "       [ 0.01435766],\n",
       "       [ 0.01435766],\n",
       "       [ 0.00130673],\n",
       "       [ 0.00130673]])"
      ]
     },
     "execution_count": 2,
     "metadata": {},
     "output_type": "execute_result"
    }
   ],
   "source": [
    "bat_model.bat_price_per_hour(200,18,22,300,200,100)"
   ]
  },
  {
   "cell_type": "code",
   "execution_count": 16,
   "metadata": {},
   "outputs": [
    {
     "data": {
      "text/plain": [
       "array([ 0.99998681])"
      ]
     },
     "execution_count": 16,
     "metadata": {},
     "output_type": "execute_result"
    }
   ],
   "source": [
    "cycles = .5;\n",
    "rate = min(max(cycles/4,0.5),2)\n",
    "soc_high = min(max(cycles*100,60),100)\n",
    "bat_model.bat_cycle(400,20,soc_high,rate)**(cycles/400)"
   ]
  },
  {
   "cell_type": "code",
   "execution_count": 15,
   "metadata": {},
   "outputs": [
    {
     "data": {
      "text/plain": [
       "100"
      ]
     },
     "execution_count": 15,
     "metadata": {},
     "output_type": "execute_result"
    }
   ],
   "source": [
    "soc_high"
   ]
  },
  {
   "cell_type": "code",
   "execution_count": 8,
   "metadata": {},
   "outputs": [
    {
     "data": {
      "text/plain": [
       "60"
      ]
     },
     "execution_count": 8,
     "metadata": {},
     "output_type": "execute_result"
    }
   ],
   "source": [
    "soc_high"
   ]
  },
  {
   "cell_type": "code",
   "execution_count": 2,
   "metadata": {},
   "outputs": [
    {
     "ename": "NameError",
     "evalue": "name 'bat_model' is not defined",
     "output_type": "error",
     "traceback": [
      "\u001b[0;31m---------------------------------------------------------------------------\u001b[0m",
      "\u001b[0;31mNameError\u001b[0m                                 Traceback (most recent call last)",
      "\u001b[0;32m<ipython-input-2-e90a33b4d3c0>\u001b[0m in \u001b[0;36m<module>\u001b[0;34m()\u001b[0m\n\u001b[0;32m----> 1\u001b[0;31m \u001b[0mbat_model\u001b[0m\u001b[0;34m.\u001b[0m\u001b[0mbat_price_per_hour\u001b[0m\u001b[0;34m(\u001b[0m\u001b[0;36m0\u001b[0m\u001b[0;34m,\u001b[0m\u001b[0;36m16\u001b[0m\u001b[0;34m,\u001b[0m\u001b[0;36m22\u001b[0m\u001b[0;34m,\u001b[0m\u001b[0;36m300\u001b[0m\u001b[0;34m,\u001b[0m\u001b[0;36m200\u001b[0m\u001b[0;34m,\u001b[0m\u001b[0;36m100\u001b[0m\u001b[0;34m)\u001b[0m\u001b[0;34m\u001b[0m\u001b[0m\n\u001b[0m",
      "\u001b[0;31mNameError\u001b[0m: name 'bat_model' is not defined"
     ]
    }
   ],
   "source": [
    "bat_model.bat_price_per_hour(0,16,22,300,200,100)"
   ]
  },
  {
   "cell_type": "code",
   "execution_count": 3,
   "metadata": {},
   "outputs": [
    {
     "ename": "NameError",
     "evalue": "name 'bat_model' is not defined",
     "output_type": "error",
     "traceback": [
      "\u001b[0;31m---------------------------------------------------------------------------\u001b[0m",
      "\u001b[0;31mNameError\u001b[0m                                 Traceback (most recent call last)",
      "\u001b[0;32m<ipython-input-3-6abd867e2178>\u001b[0m in \u001b[0;36m<module>\u001b[0;34m()\u001b[0m\n\u001b[0;32m----> 1\u001b[0;31m \u001b[0mbat_model\u001b[0m\u001b[0;34m.\u001b[0m\u001b[0mbat_price_per_hour\u001b[0m\u001b[0;34m(\u001b[0m\u001b[0;36m0\u001b[0m\u001b[0;34m,\u001b[0m\u001b[0;36m18\u001b[0m\u001b[0;34m,\u001b[0m\u001b[0;36m22\u001b[0m\u001b[0;34m,\u001b[0m\u001b[0;36m300\u001b[0m\u001b[0;34m,\u001b[0m\u001b[0;36m200\u001b[0m\u001b[0;34m,\u001b[0m\u001b[0;36m100\u001b[0m\u001b[0;34m)\u001b[0m\u001b[0;34m\u001b[0m\u001b[0m\n\u001b[0m",
      "\u001b[0;31mNameError\u001b[0m: name 'bat_model' is not defined"
     ]
    }
   ],
   "source": [
    "bat_model.bat_price_per_hour(0,18,22,300,200,100)"
   ]
  },
  {
   "cell_type": "code",
   "execution_count": 3,
   "metadata": {
    "collapsed": true
   },
   "outputs": [],
   "source": [
    "energy = 8 #kWhr\n",
    "hour_start = 18 #6pm, sun goes down\n",
    "hour_end = 22 #10pm, this means battery stops at 10:00pm, not 10:59\n",
    "day = 343 #Dec 9th\n",
    "bat_cap = 13.5 #kWhr\n",
    "bat_cost = 222*bat_cap #cost scales with capacity, adjust to make numbers relavent if needed\n",
    "    \n",
    "cost_per_hour = bat_model.bat_price_per_hour(energy,hour_start,hour_end,day,bat_cap,bat_cost)"
   ]
  },
  {
   "cell_type": "code",
   "execution_count": 4,
   "metadata": {},
   "outputs": [
    {
     "data": {
      "text/plain": [
       "array([[ 0.02831017],\n",
       "       [ 0.02831017],\n",
       "       [ 0.02831017],\n",
       "       [ 0.02831017],\n",
       "       [ 0.02831017],\n",
       "       [ 0.02831017],\n",
       "       [ 0.02831017],\n",
       "       [ 0.02831017],\n",
       "       [ 0.02831017],\n",
       "       [ 0.02831017],\n",
       "       [ 0.02831017],\n",
       "       [ 0.02831017],\n",
       "       [ 0.02831017],\n",
       "       [ 0.02831017],\n",
       "       [ 0.02831017],\n",
       "       [ 0.02831017],\n",
       "       [ 0.02831017],\n",
       "       [ 0.02831017],\n",
       "       [ 0.26659312],\n",
       "       [ 0.26659312],\n",
       "       [ 0.26659312],\n",
       "       [ 0.26659312],\n",
       "       [ 0.02831017],\n",
       "       [ 0.02831017]])"
      ]
     },
     "execution_count": 4,
     "metadata": {},
     "output_type": "execute_result"
    }
   ],
   "source": [
    "cost_per_hour"
   ]
  },
  {
   "cell_type": "code",
   "execution_count": null,
   "metadata": {
    "collapsed": true
   },
   "outputs": [],
   "source": []
  }
 ],
 "metadata": {
  "kernelspec": {
   "display_name": "Python 3",
   "language": "python",
   "name": "python3"
  },
  "language_info": {
   "codemirror_mode": {
    "name": "ipython",
    "version": 3
   },
   "file_extension": ".py",
   "mimetype": "text/x-python",
   "name": "python",
   "nbconvert_exporter": "python",
   "pygments_lexer": "ipython3",
   "version": "3.6.1"
  }
 },
 "nbformat": 4,
 "nbformat_minor": 2
}
